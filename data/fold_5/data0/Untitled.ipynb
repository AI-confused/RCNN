{
 "cells": [
  {
   "cell_type": "code",
   "execution_count": 8,
   "metadata": {},
   "outputs": [
    {
     "name": "stdout",
     "output_type": "stream",
     "text": [
      "tensor([[[1, 2, 3],\n",
      "         [4, 5, 6]],\n",
      "\n",
      "        [[2, 4, 6],\n",
      "         [3, 6, 9]]])\n",
      "tensor([[1, 2, 3, 4, 5, 6],\n",
      "        [2, 4, 6, 3, 6, 9]])\n",
      "tensor([[[1, 2],\n",
      "         [3, 4],\n",
      "         [5, 6]],\n",
      "\n",
      "        [[2, 4],\n",
      "         [6, 3],\n",
      "         [6, 9]]])\n"
     ]
    }
   ],
   "source": [
    "import torch\n",
    "a = torch.tensor([[[1,2,3],[4,5,6]],[[2,4,6],[3,6,9]]])\n",
    "print(a)\n",
    "b = a.view((-1, 6))\n",
    "print(b)\n",
    "c = b.view((-1, 3, 2))\n",
    "print(c)"
   ]
  },
  {
   "cell_type": "code",
   "execution_count": 12,
   "metadata": {},
   "outputs": [
    {
     "name": "stdout",
     "output_type": "stream",
     "text": [
      "(1, 200, 768)\n"
     ]
    }
   ],
   "source": [
    "from bert_serving.client import BertClient\n",
    "bc = BertClient(ip='10.15.82.239',port=8190, check_version=False, check_length=False)\n",
    "a = bc.encode(['你好我是怒呼出的口号'])\n",
    "print(a.shape)"
   ]
  },
  {
   "cell_type": "code",
   "execution_count": 21,
   "metadata": {},
   "outputs": [
    {
     "name": "stdout",
     "output_type": "stream",
     "text": [
      "tensor([[[1., 2.],\n",
      "         [2., 3.]],\n",
      "\n",
      "        [[4., 5.],\n",
      "         [6., 7.]]])\n"
     ]
    }
   ],
   "source": [
    "import torch\n",
    "a=torch.Tensor([[[1,2],[2,3]],[[4,5],[6,7]]])\n",
    "print(a)\n",
    "b = a.permute(2, 1, 0)\n"
   ]
  },
  {
   "cell_type": "code",
   "execution_count": 28,
   "metadata": {},
   "outputs": [
    {
     "name": "stdout",
     "output_type": "stream",
     "text": [
      "3\n"
     ]
    }
   ],
   "source": [
    "def fun(u, **kargs):\n",
    "    print(kargs['a'])\n",
    "fun(1,a=3,b=34,c=5)"
   ]
  }
 ],
 "metadata": {
  "kernelspec": {
   "display_name": "bert",
   "language": "python",
   "name": "bert"
  },
  "language_info": {
   "codemirror_mode": {
    "name": "ipython",
    "version": 3
   },
   "file_extension": ".py",
   "mimetype": "text/x-python",
   "name": "python",
   "nbconvert_exporter": "python",
   "pygments_lexer": "ipython3",
   "version": "3.6.9"
  }
 },
 "nbformat": 4,
 "nbformat_minor": 2
}
